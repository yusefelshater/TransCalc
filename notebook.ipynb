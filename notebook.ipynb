{
 "cells": [
  {
   "cell_type": "markdown",
   "metadata": {},
   "source": [
    "# Pavement Performance Model\n",
    "\n",
    "This notebook provides an interactive interface for the pavement performance model."
   ]
  },
  {
   "cell_type": "code",
   "execution_count": null,
   "metadata": {},
   "outputs": [],
   "source": [
    "# Import required modules\n",
    "from model import run_model\n",
    "from config import *\n",
    "\n",
    "# Example inputs\n",
    "L = 1.0  # km\n",
    "W = 3.5  # m\n",
    "h = 0.05  # m\n",
    "rho_m = 2.4  # ton/m³\n",
    "Pb = 0.055  # 5.5%\n",
    "Pp = 0.05  # 5% of bitumen weight\n",
    "Pr = 0.08  # 8% of bitumen weight\n",
    "T = 30.0  # °C\n",
    "A = 1.0  # million ESALs/year\n",
    "c_agg = 100.0  # $/ton\n",
    "c_bit = 500.0  # $/ton\n",
    "c_pl = 200.0  # $/ton\n",
    "c_rub = 300.0  # $/ton\n",
    "overhead = 1000.0  # $\n",
    "\n",
    "# Run the model\n",
    "results = run_model(L, W, h, rho_m, Pb, Pp, Pr, T, A, c_agg, c_bit, c_pl, c_rub, overhead)\n",
    "\n",
    "# Display results\n",
    "for key, value in results.items():\n",
    "    print(f\"{key}: {value}\")"
   ]
  }
 ],
 "metadata": {
  "kernelspec": {
   "display_name": "Python 3",
   "language": "python",
   "name": "python3"
  },
  "language_info": {
   "codemirror_mode": {
    "name": "ipython",
    "version": 3
   },
   "file_extension": ".py",
   "mimetype": "text/x-python",
   "name": "python",
   "nbconvert_exporter": "python",
   "pygments_lexer": "ipython3",
   "version": "3.8.10"
  }
 },
 "nbformat": 4,
 "nbformat_minor": 4
}
